{
  "metadata": {
    "kernelspec": {
      "language": "python",
      "display_name": "Python 3",
      "name": "python3"
    },
    "language_info": {
      "name": "python",
      "version": "3.10.12",
      "mimetype": "text/x-python",
      "codemirror_mode": {
        "name": "ipython",
        "version": 3
      },
      "pygments_lexer": "ipython3",
      "nbconvert_exporter": "python",
      "file_extension": ".py"
    },
    "kaggle": {
      "accelerator": "none",
      "dataSources": [
        {
          "sourceId": 1752235,
          "sourceType": "datasetVersion",
          "datasetId": 1041311
        }
      ],
      "dockerImageVersionId": 30558,
      "isInternetEnabled": true,
      "language": "python",
      "sourceType": "notebook",
      "isGpuEnabled": false
    },
    "colab": {
      "provenance": []
    }
  },
  "nbformat_minor": 0,
  "nbformat": 4,
  "cells": [
    {
      "cell_type": "markdown",
      "source": [
        "# Importing Necessary Libraries\n",
        "\n",
        "You can download the dataset from the link below:\n",
        "<br/>\n",
        "https://www.kaggle.com/code/nadaemad2002/fitbit-fitness-tracker-data\n"
      ],
      "metadata": {
        "id": "OHukQG0tD9P_"
      }
    },
    {
      "cell_type": "code",
      "source": [
        "import pandas as pd\n",
        "import numpy as np\n",
        "import datetime as dt\n",
        "import matplotlib.pyplot as plt\n",
        "import seaborn as sns\n",
        "import plotly.express as px\n",
        "\n",
        "import warnings\n",
        "warnings.filterwarnings('ignore')\n"
      ],
      "metadata": {
        "execution": {
          "iopub.status.busy": "2023-12-10T11:32:14.008163Z",
          "iopub.execute_input": "2023-12-10T11:32:14.008568Z",
          "iopub.status.idle": "2023-12-10T11:32:17.488943Z",
          "shell.execute_reply.started": "2023-12-10T11:32:14.008536Z",
          "shell.execute_reply": "2023-12-10T11:32:17.487665Z"
        },
        "trusted": true,
        "id": "S3OgfqE1D9QA"
      },
      "execution_count": null,
      "outputs": []
    },
    {
      "cell_type": "code",
      "source": [
        "data = pd.read_csv('dailyActivity_merged.csv')"
      ],
      "metadata": {
        "execution": {
          "iopub.status.busy": "2023-12-10T11:32:17.491299Z",
          "iopub.execute_input": "2023-12-10T11:32:17.491879Z",
          "iopub.status.idle": "2023-12-10T11:32:17.524864Z",
          "shell.execute_reply.started": "2023-12-10T11:32:17.491846Z",
          "shell.execute_reply": "2023-12-10T11:32:17.523492Z"
        },
        "trusted": true,
        "id": "68rUPhzOD9QB"
      },
      "execution_count": null,
      "outputs": []
    },
    {
      "cell_type": "markdown",
      "source": [
        "# Explore Data🔎 and Data Cleaning 🧹"
      ],
      "metadata": {
        "id": "BgAT0aJlD9QB"
      }
    },
    {
      "cell_type": "code",
      "source": [
        "data.head()"
      ],
      "metadata": {
        "execution": {
          "iopub.status.busy": "2023-12-10T11:32:17.527093Z",
          "iopub.execute_input": "2023-12-10T11:32:17.527841Z",
          "iopub.status.idle": "2023-12-10T11:32:17.567971Z",
          "shell.execute_reply.started": "2023-12-10T11:32:17.527781Z",
          "shell.execute_reply": "2023-12-10T11:32:17.566511Z"
        },
        "trusted": true,
        "id": "Y3tfNF9KD9QB",
        "colab": {
          "base_uri": "https://localhost:8080/",
          "height": 226
        },
        "outputId": "92196e44-dfa2-4b5d-f867-c508deac2025"
      },
      "execution_count": null,
      "outputs": [
        {
          "output_type": "execute_result",
          "data": {
            "text/plain": [
              "           Id ActivityDate  TotalSteps  TotalDistance  TrackerDistance  \\\n",
              "0  1503960366    4/12/2016       13162           8.50             8.50   \n",
              "1  1503960366    4/13/2016       10735           6.97             6.97   \n",
              "2  1503960366    4/14/2016       10460           6.74             6.74   \n",
              "3  1503960366    4/15/2016        9762           6.28             6.28   \n",
              "4  1503960366    4/16/2016       12669           8.16             8.16   \n",
              "\n",
              "   LoggedActivitiesDistance  VeryActiveDistance  ModeratelyActiveDistance  \\\n",
              "0                       0.0                1.88                      0.55   \n",
              "1                       0.0                1.57                      0.69   \n",
              "2                       0.0                2.44                      0.40   \n",
              "3                       0.0                2.14                      1.26   \n",
              "4                       0.0                2.71                      0.41   \n",
              "\n",
              "   LightActiveDistance  SedentaryActiveDistance  VeryActiveMinutes  \\\n",
              "0                 6.06                      0.0                 25   \n",
              "1                 4.71                      0.0                 21   \n",
              "2                 3.91                      0.0                 30   \n",
              "3                 2.83                      0.0                 29   \n",
              "4                 5.04                      0.0                 36   \n",
              "\n",
              "   FairlyActiveMinutes  LightlyActiveMinutes  SedentaryMinutes  Calories  \n",
              "0                   13                   328               728      1985  \n",
              "1                   19                   217               776      1797  \n",
              "2                   11                   181              1218      1776  \n",
              "3                   34                   209               726      1745  \n",
              "4                   10                   221               773      1863  "
            ],
            "text/html": [
              "\n",
              "  <div id=\"df-6417327a-a010-40a9-ab28-6d38069afc3c\" class=\"colab-df-container\">\n",
              "    <div>\n",
              "<style scoped>\n",
              "    .dataframe tbody tr th:only-of-type {\n",
              "        vertical-align: middle;\n",
              "    }\n",
              "\n",
              "    .dataframe tbody tr th {\n",
              "        vertical-align: top;\n",
              "    }\n",
              "\n",
              "    .dataframe thead th {\n",
              "        text-align: right;\n",
              "    }\n",
              "</style>\n",
              "<table border=\"1\" class=\"dataframe\">\n",
              "  <thead>\n",
              "    <tr style=\"text-align: right;\">\n",
              "      <th></th>\n",
              "      <th>Id</th>\n",
              "      <th>ActivityDate</th>\n",
              "      <th>TotalSteps</th>\n",
              "      <th>TotalDistance</th>\n",
              "      <th>TrackerDistance</th>\n",
              "      <th>LoggedActivitiesDistance</th>\n",
              "      <th>VeryActiveDistance</th>\n",
              "      <th>ModeratelyActiveDistance</th>\n",
              "      <th>LightActiveDistance</th>\n",
              "      <th>SedentaryActiveDistance</th>\n",
              "      <th>VeryActiveMinutes</th>\n",
              "      <th>FairlyActiveMinutes</th>\n",
              "      <th>LightlyActiveMinutes</th>\n",
              "      <th>SedentaryMinutes</th>\n",
              "      <th>Calories</th>\n",
              "    </tr>\n",
              "  </thead>\n",
              "  <tbody>\n",
              "    <tr>\n",
              "      <th>0</th>\n",
              "      <td>1503960366</td>\n",
              "      <td>4/12/2016</td>\n",
              "      <td>13162</td>\n",
              "      <td>8.50</td>\n",
              "      <td>8.50</td>\n",
              "      <td>0.0</td>\n",
              "      <td>1.88</td>\n",
              "      <td>0.55</td>\n",
              "      <td>6.06</td>\n",
              "      <td>0.0</td>\n",
              "      <td>25</td>\n",
              "      <td>13</td>\n",
              "      <td>328</td>\n",
              "      <td>728</td>\n",
              "      <td>1985</td>\n",
              "    </tr>\n",
              "    <tr>\n",
              "      <th>1</th>\n",
              "      <td>1503960366</td>\n",
              "      <td>4/13/2016</td>\n",
              "      <td>10735</td>\n",
              "      <td>6.97</td>\n",
              "      <td>6.97</td>\n",
              "      <td>0.0</td>\n",
              "      <td>1.57</td>\n",
              "      <td>0.69</td>\n",
              "      <td>4.71</td>\n",
              "      <td>0.0</td>\n",
              "      <td>21</td>\n",
              "      <td>19</td>\n",
              "      <td>217</td>\n",
              "      <td>776</td>\n",
              "      <td>1797</td>\n",
              "    </tr>\n",
              "    <tr>\n",
              "      <th>2</th>\n",
              "      <td>1503960366</td>\n",
              "      <td>4/14/2016</td>\n",
              "      <td>10460</td>\n",
              "      <td>6.74</td>\n",
              "      <td>6.74</td>\n",
              "      <td>0.0</td>\n",
              "      <td>2.44</td>\n",
              "      <td>0.40</td>\n",
              "      <td>3.91</td>\n",
              "      <td>0.0</td>\n",
              "      <td>30</td>\n",
              "      <td>11</td>\n",
              "      <td>181</td>\n",
              "      <td>1218</td>\n",
              "      <td>1776</td>\n",
              "    </tr>\n",
              "    <tr>\n",
              "      <th>3</th>\n",
              "      <td>1503960366</td>\n",
              "      <td>4/15/2016</td>\n",
              "      <td>9762</td>\n",
              "      <td>6.28</td>\n",
              "      <td>6.28</td>\n",
              "      <td>0.0</td>\n",
              "      <td>2.14</td>\n",
              "      <td>1.26</td>\n",
              "      <td>2.83</td>\n",
              "      <td>0.0</td>\n",
              "      <td>29</td>\n",
              "      <td>34</td>\n",
              "      <td>209</td>\n",
              "      <td>726</td>\n",
              "      <td>1745</td>\n",
              "    </tr>\n",
              "    <tr>\n",
              "      <th>4</th>\n",
              "      <td>1503960366</td>\n",
              "      <td>4/16/2016</td>\n",
              "      <td>12669</td>\n",
              "      <td>8.16</td>\n",
              "      <td>8.16</td>\n",
              "      <td>0.0</td>\n",
              "      <td>2.71</td>\n",
              "      <td>0.41</td>\n",
              "      <td>5.04</td>\n",
              "      <td>0.0</td>\n",
              "      <td>36</td>\n",
              "      <td>10</td>\n",
              "      <td>221</td>\n",
              "      <td>773</td>\n",
              "      <td>1863</td>\n",
              "    </tr>\n",
              "  </tbody>\n",
              "</table>\n",
              "</div>\n",
              "    <div class=\"colab-df-buttons\">\n",
              "\n",
              "  <div class=\"colab-df-container\">\n",
              "    <button class=\"colab-df-convert\" onclick=\"convertToInteractive('df-6417327a-a010-40a9-ab28-6d38069afc3c')\"\n",
              "            title=\"Convert this dataframe to an interactive table.\"\n",
              "            style=\"display:none;\">\n",
              "\n",
              "  <svg xmlns=\"http://www.w3.org/2000/svg\" height=\"24px\" viewBox=\"0 -960 960 960\">\n",
              "    <path d=\"M120-120v-720h720v720H120Zm60-500h600v-160H180v160Zm220 220h160v-160H400v160Zm0 220h160v-160H400v160ZM180-400h160v-160H180v160Zm440 0h160v-160H620v160ZM180-180h160v-160H180v160Zm440 0h160v-160H620v160Z\"/>\n",
              "  </svg>\n",
              "    </button>\n",
              "\n",
              "  <style>\n",
              "    .colab-df-container {\n",
              "      display:flex;\n",
              "      gap: 12px;\n",
              "    }\n",
              "\n",
              "    .colab-df-convert {\n",
              "      background-color: #E8F0FE;\n",
              "      border: none;\n",
              "      border-radius: 50%;\n",
              "      cursor: pointer;\n",
              "      display: none;\n",
              "      fill: #1967D2;\n",
              "      height: 32px;\n",
              "      padding: 0 0 0 0;\n",
              "      width: 32px;\n",
              "    }\n",
              "\n",
              "    .colab-df-convert:hover {\n",
              "      background-color: #E2EBFA;\n",
              "      box-shadow: 0px 1px 2px rgba(60, 64, 67, 0.3), 0px 1px 3px 1px rgba(60, 64, 67, 0.15);\n",
              "      fill: #174EA6;\n",
              "    }\n",
              "\n",
              "    .colab-df-buttons div {\n",
              "      margin-bottom: 4px;\n",
              "    }\n",
              "\n",
              "    [theme=dark] .colab-df-convert {\n",
              "      background-color: #3B4455;\n",
              "      fill: #D2E3FC;\n",
              "    }\n",
              "\n",
              "    [theme=dark] .colab-df-convert:hover {\n",
              "      background-color: #434B5C;\n",
              "      box-shadow: 0px 1px 3px 1px rgba(0, 0, 0, 0.15);\n",
              "      filter: drop-shadow(0px 1px 2px rgba(0, 0, 0, 0.3));\n",
              "      fill: #FFFFFF;\n",
              "    }\n",
              "  </style>\n",
              "\n",
              "    <script>\n",
              "      const buttonEl =\n",
              "        document.querySelector('#df-6417327a-a010-40a9-ab28-6d38069afc3c button.colab-df-convert');\n",
              "      buttonEl.style.display =\n",
              "        google.colab.kernel.accessAllowed ? 'block' : 'none';\n",
              "\n",
              "      async function convertToInteractive(key) {\n",
              "        const element = document.querySelector('#df-6417327a-a010-40a9-ab28-6d38069afc3c');\n",
              "        const dataTable =\n",
              "          await google.colab.kernel.invokeFunction('convertToInteractive',\n",
              "                                                    [key], {});\n",
              "        if (!dataTable) return;\n",
              "\n",
              "        const docLinkHtml = 'Like what you see? Visit the ' +\n",
              "          '<a target=\"_blank\" href=https://colab.research.google.com/notebooks/data_table.ipynb>data table notebook</a>'\n",
              "          + ' to learn more about interactive tables.';\n",
              "        element.innerHTML = '';\n",
              "        dataTable['output_type'] = 'display_data';\n",
              "        await google.colab.output.renderOutput(dataTable, element);\n",
              "        const docLink = document.createElement('div');\n",
              "        docLink.innerHTML = docLinkHtml;\n",
              "        element.appendChild(docLink);\n",
              "      }\n",
              "    </script>\n",
              "  </div>\n",
              "\n",
              "\n",
              "<div id=\"df-fb76799d-b7ac-41fc-90e3-6ff75dfcff1c\">\n",
              "  <button class=\"colab-df-quickchart\" onclick=\"quickchart('df-fb76799d-b7ac-41fc-90e3-6ff75dfcff1c')\"\n",
              "            title=\"Suggest charts\"\n",
              "            style=\"display:none;\">\n",
              "\n",
              "<svg xmlns=\"http://www.w3.org/2000/svg\" height=\"24px\"viewBox=\"0 0 24 24\"\n",
              "     width=\"24px\">\n",
              "    <g>\n",
              "        <path d=\"M19 3H5c-1.1 0-2 .9-2 2v14c0 1.1.9 2 2 2h14c1.1 0 2-.9 2-2V5c0-1.1-.9-2-2-2zM9 17H7v-7h2v7zm4 0h-2V7h2v10zm4 0h-2v-4h2v4z\"/>\n",
              "    </g>\n",
              "</svg>\n",
              "  </button>\n",
              "\n",
              "<style>\n",
              "  .colab-df-quickchart {\n",
              "      --bg-color: #E8F0FE;\n",
              "      --fill-color: #1967D2;\n",
              "      --hover-bg-color: #E2EBFA;\n",
              "      --hover-fill-color: #174EA6;\n",
              "      --disabled-fill-color: #AAA;\n",
              "      --disabled-bg-color: #DDD;\n",
              "  }\n",
              "\n",
              "  [theme=dark] .colab-df-quickchart {\n",
              "      --bg-color: #3B4455;\n",
              "      --fill-color: #D2E3FC;\n",
              "      --hover-bg-color: #434B5C;\n",
              "      --hover-fill-color: #FFFFFF;\n",
              "      --disabled-bg-color: #3B4455;\n",
              "      --disabled-fill-color: #666;\n",
              "  }\n",
              "\n",
              "  .colab-df-quickchart {\n",
              "    background-color: var(--bg-color);\n",
              "    border: none;\n",
              "    border-radius: 50%;\n",
              "    cursor: pointer;\n",
              "    display: none;\n",
              "    fill: var(--fill-color);\n",
              "    height: 32px;\n",
              "    padding: 0;\n",
              "    width: 32px;\n",
              "  }\n",
              "\n",
              "  .colab-df-quickchart:hover {\n",
              "    background-color: var(--hover-bg-color);\n",
              "    box-shadow: 0 1px 2px rgba(60, 64, 67, 0.3), 0 1px 3px 1px rgba(60, 64, 67, 0.15);\n",
              "    fill: var(--button-hover-fill-color);\n",
              "  }\n",
              "\n",
              "  .colab-df-quickchart-complete:disabled,\n",
              "  .colab-df-quickchart-complete:disabled:hover {\n",
              "    background-color: var(--disabled-bg-color);\n",
              "    fill: var(--disabled-fill-color);\n",
              "    box-shadow: none;\n",
              "  }\n",
              "\n",
              "  .colab-df-spinner {\n",
              "    border: 2px solid var(--fill-color);\n",
              "    border-color: transparent;\n",
              "    border-bottom-color: var(--fill-color);\n",
              "    animation:\n",
              "      spin 1s steps(1) infinite;\n",
              "  }\n",
              "\n",
              "  @keyframes spin {\n",
              "    0% {\n",
              "      border-color: transparent;\n",
              "      border-bottom-color: var(--fill-color);\n",
              "      border-left-color: var(--fill-color);\n",
              "    }\n",
              "    20% {\n",
              "      border-color: transparent;\n",
              "      border-left-color: var(--fill-color);\n",
              "      border-top-color: var(--fill-color);\n",
              "    }\n",
              "    30% {\n",
              "      border-color: transparent;\n",
              "      border-left-color: var(--fill-color);\n",
              "      border-top-color: var(--fill-color);\n",
              "      border-right-color: var(--fill-color);\n",
              "    }\n",
              "    40% {\n",
              "      border-color: transparent;\n",
              "      border-right-color: var(--fill-color);\n",
              "      border-top-color: var(--fill-color);\n",
              "    }\n",
              "    60% {\n",
              "      border-color: transparent;\n",
              "      border-right-color: var(--fill-color);\n",
              "    }\n",
              "    80% {\n",
              "      border-color: transparent;\n",
              "      border-right-color: var(--fill-color);\n",
              "      border-bottom-color: var(--fill-color);\n",
              "    }\n",
              "    90% {\n",
              "      border-color: transparent;\n",
              "      border-bottom-color: var(--fill-color);\n",
              "    }\n",
              "  }\n",
              "</style>\n",
              "\n",
              "  <script>\n",
              "    async function quickchart(key) {\n",
              "      const quickchartButtonEl =\n",
              "        document.querySelector('#' + key + ' button');\n",
              "      quickchartButtonEl.disabled = true;  // To prevent multiple clicks.\n",
              "      quickchartButtonEl.classList.add('colab-df-spinner');\n",
              "      try {\n",
              "        const charts = await google.colab.kernel.invokeFunction(\n",
              "            'suggestCharts', [key], {});\n",
              "      } catch (error) {\n",
              "        console.error('Error during call to suggestCharts:', error);\n",
              "      }\n",
              "      quickchartButtonEl.classList.remove('colab-df-spinner');\n",
              "      quickchartButtonEl.classList.add('colab-df-quickchart-complete');\n",
              "    }\n",
              "    (() => {\n",
              "      let quickchartButtonEl =\n",
              "        document.querySelector('#df-fb76799d-b7ac-41fc-90e3-6ff75dfcff1c button');\n",
              "      quickchartButtonEl.style.display =\n",
              "        google.colab.kernel.accessAllowed ? 'block' : 'none';\n",
              "    })();\n",
              "  </script>\n",
              "</div>\n",
              "\n",
              "    </div>\n",
              "  </div>\n"
            ],
            "application/vnd.google.colaboratory.intrinsic+json": {
              "type": "dataframe",
              "variable_name": "data",
              "summary": "{\n  \"name\": \"data\",\n  \"rows\": 940,\n  \"fields\": [\n    {\n      \"column\": \"Id\",\n      \"properties\": {\n        \"dtype\": \"number\",\n        \"std\": 2424805475,\n        \"min\": 1503960366,\n        \"max\": 8877689391,\n        \"num_unique_values\": 33,\n        \"samples\": [\n          8792009665,\n          4388161847,\n          7086361926\n        ],\n        \"semantic_type\": \"\",\n        \"description\": \"\"\n      }\n    },\n    {\n      \"column\": \"ActivityDate\",\n      \"properties\": {\n        \"dtype\": \"object\",\n        \"num_unique_values\": 31,\n        \"samples\": [\n          \"5/9/2016\",\n          \"4/27/2016\",\n          \"5/5/2016\"\n        ],\n        \"semantic_type\": \"\",\n        \"description\": \"\"\n      }\n    },\n    {\n      \"column\": \"TotalSteps\",\n      \"properties\": {\n        \"dtype\": \"number\",\n        \"std\": 5087,\n        \"min\": 0,\n        \"max\": 36019,\n        \"num_unique_values\": 842,\n        \"samples\": [\n          3727,\n          7379,\n          10762\n        ],\n        \"semantic_type\": \"\",\n        \"description\": \"\"\n      }\n    },\n    {\n      \"column\": \"TotalDistance\",\n      \"properties\": {\n        \"dtype\": \"number\",\n        \"std\": 3.924605908624871,\n        \"min\": 0.0,\n        \"max\": 28.0300006866455,\n        \"num_unique_values\": 615,\n        \"samples\": [\n          7.80000019073486,\n          3.5699999332428,\n          8.25\n        ],\n        \"semantic_type\": \"\",\n        \"description\": \"\"\n      }\n    },\n    {\n      \"column\": \"TrackerDistance\",\n      \"properties\": {\n        \"dtype\": \"number\",\n        \"std\": 3.9072759432009443,\n        \"min\": 0.0,\n        \"max\": 28.0300006866455,\n        \"num_unique_values\": 613,\n        \"samples\": [\n          6.05000019073486,\n          2.6800000667572,\n          7.40000009536743\n        ],\n        \"semantic_type\": \"\",\n        \"description\": \"\"\n      }\n    },\n    {\n      \"column\": \"LoggedActivitiesDistance\",\n      \"properties\": {\n        \"dtype\": \"number\",\n        \"std\": 0.6198965182108744,\n        \"min\": 0.0,\n        \"max\": 4.94214200973511,\n        \"num_unique_values\": 19,\n        \"samples\": [\n          0.0,\n          4.8697829246521,\n          4.86179208755493\n        ],\n        \"semantic_type\": \"\",\n        \"description\": \"\"\n      }\n    },\n    {\n      \"column\": \"VeryActiveDistance\",\n      \"properties\": {\n        \"dtype\": \"number\",\n        \"std\": 2.6589411648346166,\n        \"min\": 0.0,\n        \"max\": 21.9200000762939,\n        \"num_unique_values\": 333,\n        \"samples\": [\n          3.34999990463257,\n          0.28999999165535,\n          0.479999989271164\n        ],\n        \"semantic_type\": \"\",\n        \"description\": \"\"\n      }\n    },\n    {\n      \"column\": \"ModeratelyActiveDistance\",\n      \"properties\": {\n        \"dtype\": \"number\",\n        \"std\": 0.883580319140428,\n        \"min\": 0.0,\n        \"max\": 6.48000001907349,\n        \"num_unique_values\": 211,\n        \"samples\": [\n          1.87000000476837,\n          1.16999995708466,\n          0.889999985694885\n        ],\n        \"semantic_type\": \"\",\n        \"description\": \"\"\n      }\n    },\n    {\n      \"column\": \"LightActiveDistance\",\n      \"properties\": {\n        \"dtype\": \"number\",\n        \"std\": 2.04065538820603,\n        \"min\": 0.0,\n        \"max\": 10.710000038147,\n        \"num_unique_values\": 491,\n        \"samples\": [\n          1.75,\n          0.949999988079071,\n          5.48000001907349\n        ],\n        \"semantic_type\": \"\",\n        \"description\": \"\"\n      }\n    },\n    {\n      \"column\": \"SedentaryActiveDistance\",\n      \"properties\": {\n        \"dtype\": \"number\",\n        \"std\": 0.007346176286859482,\n        \"min\": 0.0,\n        \"max\": 0.109999999403954,\n        \"num_unique_values\": 9,\n        \"samples\": [\n          0.109999999403954,\n          0.0099999997764825,\n          0.0700000002980232\n        ],\n        \"semantic_type\": \"\",\n        \"description\": \"\"\n      }\n    },\n    {\n      \"column\": \"VeryActiveMinutes\",\n      \"properties\": {\n        \"dtype\": \"number\",\n        \"std\": 32,\n        \"min\": 0,\n        \"max\": 210,\n        \"num_unique_values\": 122,\n        \"samples\": [\n          52,\n          104,\n          13\n        ],\n        \"semantic_type\": \"\",\n        \"description\": \"\"\n      }\n    },\n    {\n      \"column\": \"FairlyActiveMinutes\",\n      \"properties\": {\n        \"dtype\": \"number\",\n        \"std\": 19,\n        \"min\": 0,\n        \"max\": 143,\n        \"num_unique_values\": 81,\n        \"samples\": [\n          42,\n          13,\n          0\n        ],\n        \"semantic_type\": \"\",\n        \"description\": \"\"\n      }\n    },\n    {\n      \"column\": \"LightlyActiveMinutes\",\n      \"properties\": {\n        \"dtype\": \"number\",\n        \"std\": 109,\n        \"min\": 0,\n        \"max\": 518,\n        \"num_unique_values\": 335,\n        \"samples\": [\n          214,\n          331,\n          295\n        ],\n        \"semantic_type\": \"\",\n        \"description\": \"\"\n      }\n    },\n    {\n      \"column\": \"SedentaryMinutes\",\n      \"properties\": {\n        \"dtype\": \"number\",\n        \"std\": 301,\n        \"min\": 0,\n        \"max\": 1440,\n        \"num_unique_values\": 549,\n        \"samples\": [\n          720,\n          1115,\n          1187\n        ],\n        \"semantic_type\": \"\",\n        \"description\": \"\"\n      }\n    },\n    {\n      \"column\": \"Calories\",\n      \"properties\": {\n        \"dtype\": \"number\",\n        \"std\": 718,\n        \"min\": 0,\n        \"max\": 4900,\n        \"num_unique_values\": 734,\n        \"samples\": [\n          2937,\n          1344,\n          1545\n        ],\n        \"semantic_type\": \"\",\n        \"description\": \"\"\n      }\n    }\n  ]\n}"
            }
          },
          "metadata": {},
          "execution_count": 5
        }
      ]
    },
    {
      "cell_type": "code",
      "source": [
        "data.shape"
      ],
      "metadata": {
        "execution": {
          "iopub.status.busy": "2023-12-10T11:32:17.570598Z",
          "iopub.execute_input": "2023-12-10T11:32:17.57097Z",
          "iopub.status.idle": "2023-12-10T11:32:17.577743Z",
          "shell.execute_reply.started": "2023-12-10T11:32:17.570941Z",
          "shell.execute_reply": "2023-12-10T11:32:17.576385Z"
        },
        "trusted": true,
        "id": "zyPjJlwaD9QC",
        "colab": {
          "base_uri": "https://localhost:8080/"
        },
        "outputId": "911e827e-a880-4189-c9cc-eed92d118f2c"
      },
      "execution_count": null,
      "outputs": [
        {
          "output_type": "execute_result",
          "data": {
            "text/plain": [
              "(940, 15)"
            ]
          },
          "metadata": {},
          "execution_count": 6
        }
      ]
    },
    {
      "cell_type": "code",
      "source": [
        "data.Id.nunique()"
      ],
      "metadata": {
        "execution": {
          "iopub.status.busy": "2023-12-10T11:32:17.579573Z",
          "iopub.execute_input": "2023-12-10T11:32:17.580382Z",
          "iopub.status.idle": "2023-12-10T11:32:17.599802Z",
          "shell.execute_reply.started": "2023-12-10T11:32:17.580337Z",
          "shell.execute_reply": "2023-12-10T11:32:17.598767Z"
        },
        "trusted": true,
        "id": "wXQWs14SD9QC",
        "colab": {
          "base_uri": "https://localhost:8080/"
        },
        "outputId": "8b406e27-6a52-47b1-e936-25e3012deeb1"
      },
      "execution_count": null,
      "outputs": [
        {
          "output_type": "execute_result",
          "data": {
            "text/plain": [
              "33"
            ]
          },
          "metadata": {},
          "execution_count": 7
        }
      ]
    },
    {
      "cell_type": "code",
      "source": [
        "cols =['Id','ActivityDate','TotalSteps','VeryActiveMinutes','FairlyActiveMinutes','LightlyActiveMinutes','SedentaryMinutes','Calories']\n",
        "\n",
        "df = data[cols]"
      ],
      "metadata": {
        "execution": {
          "iopub.status.busy": "2023-12-10T11:32:17.600819Z",
          "iopub.execute_input": "2023-12-10T11:32:17.601153Z",
          "iopub.status.idle": "2023-12-10T11:32:17.617746Z",
          "shell.execute_reply.started": "2023-12-10T11:32:17.601126Z",
          "shell.execute_reply": "2023-12-10T11:32:17.616548Z"
        },
        "trusted": true,
        "id": "DFOJVuHxD9QD"
      },
      "execution_count": null,
      "outputs": []
    },
    {
      "cell_type": "code",
      "source": [
        "df"
      ],
      "metadata": {
        "execution": {
          "iopub.status.busy": "2023-12-10T11:32:17.619774Z",
          "iopub.execute_input": "2023-12-10T11:32:17.62028Z",
          "iopub.status.idle": "2023-12-10T11:32:17.641549Z",
          "shell.execute_reply.started": "2023-12-10T11:32:17.620209Z",
          "shell.execute_reply": "2023-12-10T11:32:17.640504Z"
        },
        "trusted": true,
        "id": "sj4rIYQ_D9QD",
        "colab": {
          "base_uri": "https://localhost:8080/",
          "height": 443
        },
        "outputId": "5f8800d9-0702-4dff-f17b-65ec3262f03c"
      },
      "execution_count": null,
      "outputs": [
        {
          "output_type": "execute_result",
          "data": {
            "text/plain": [
              "             Id ActivityDate  TotalSteps  VeryActiveMinutes  \\\n",
              "0    1503960366    4/12/2016       13162                 25   \n",
              "1    1503960366    4/13/2016       10735                 21   \n",
              "2    1503960366    4/14/2016       10460                 30   \n",
              "3    1503960366    4/15/2016        9762                 29   \n",
              "4    1503960366    4/16/2016       12669                 36   \n",
              "..          ...          ...         ...                ...   \n",
              "935  8877689391     5/8/2016       10686                 17   \n",
              "936  8877689391     5/9/2016       20226                 73   \n",
              "937  8877689391    5/10/2016       10733                 18   \n",
              "938  8877689391    5/11/2016       21420                 88   \n",
              "939  8877689391    5/12/2016        8064                 23   \n",
              "\n",
              "     FairlyActiveMinutes  LightlyActiveMinutes  SedentaryMinutes  Calories  \n",
              "0                     13                   328               728      1985  \n",
              "1                     19                   217               776      1797  \n",
              "2                     11                   181              1218      1776  \n",
              "3                     34                   209               726      1745  \n",
              "4                     10                   221               773      1863  \n",
              "..                   ...                   ...               ...       ...  \n",
              "935                    4                   245              1174      2847  \n",
              "936                   19                   217              1131      3710  \n",
              "937                   11                   224              1187      2832  \n",
              "938                   12                   213              1127      3832  \n",
              "939                    1                   137               770      1849  \n",
              "\n",
              "[940 rows x 8 columns]"
            ],
            "text/html": [
              "\n",
              "  <div id=\"df-e59592c2-5d72-4454-97ab-2a46e200ce96\" class=\"colab-df-container\">\n",
              "    <div>\n",
              "<style scoped>\n",
              "    .dataframe tbody tr th:only-of-type {\n",
              "        vertical-align: middle;\n",
              "    }\n",
              "\n",
              "    .dataframe tbody tr th {\n",
              "        vertical-align: top;\n",
              "    }\n",
              "\n",
              "    .dataframe thead th {\n",
              "        text-align: right;\n",
              "    }\n",
              "</style>\n",
              "<table border=\"1\" class=\"dataframe\">\n",
              "  <thead>\n",
              "    <tr style=\"text-align: right;\">\n",
              "      <th></th>\n",
              "      <th>Id</th>\n",
              "      <th>ActivityDate</th>\n",
              "      <th>TotalSteps</th>\n",
              "      <th>VeryActiveMinutes</th>\n",
              "      <th>FairlyActiveMinutes</th>\n",
              "      <th>LightlyActiveMinutes</th>\n",
              "      <th>SedentaryMinutes</th>\n",
              "      <th>Calories</th>\n",
              "    </tr>\n",
              "  </thead>\n",
              "  <tbody>\n",
              "    <tr>\n",
              "      <th>0</th>\n",
              "      <td>1503960366</td>\n",
              "      <td>4/12/2016</td>\n",
              "      <td>13162</td>\n",
              "      <td>25</td>\n",
              "      <td>13</td>\n",
              "      <td>328</td>\n",
              "      <td>728</td>\n",
              "      <td>1985</td>\n",
              "    </tr>\n",
              "    <tr>\n",
              "      <th>1</th>\n",
              "      <td>1503960366</td>\n",
              "      <td>4/13/2016</td>\n",
              "      <td>10735</td>\n",
              "      <td>21</td>\n",
              "      <td>19</td>\n",
              "      <td>217</td>\n",
              "      <td>776</td>\n",
              "      <td>1797</td>\n",
              "    </tr>\n",
              "    <tr>\n",
              "      <th>2</th>\n",
              "      <td>1503960366</td>\n",
              "      <td>4/14/2016</td>\n",
              "      <td>10460</td>\n",
              "      <td>30</td>\n",
              "      <td>11</td>\n",
              "      <td>181</td>\n",
              "      <td>1218</td>\n",
              "      <td>1776</td>\n",
              "    </tr>\n",
              "    <tr>\n",
              "      <th>3</th>\n",
              "      <td>1503960366</td>\n",
              "      <td>4/15/2016</td>\n",
              "      <td>9762</td>\n",
              "      <td>29</td>\n",
              "      <td>34</td>\n",
              "      <td>209</td>\n",
              "      <td>726</td>\n",
              "      <td>1745</td>\n",
              "    </tr>\n",
              "    <tr>\n",
              "      <th>4</th>\n",
              "      <td>1503960366</td>\n",
              "      <td>4/16/2016</td>\n",
              "      <td>12669</td>\n",
              "      <td>36</td>\n",
              "      <td>10</td>\n",
              "      <td>221</td>\n",
              "      <td>773</td>\n",
              "      <td>1863</td>\n",
              "    </tr>\n",
              "    <tr>\n",
              "      <th>...</th>\n",
              "      <td>...</td>\n",
              "      <td>...</td>\n",
              "      <td>...</td>\n",
              "      <td>...</td>\n",
              "      <td>...</td>\n",
              "      <td>...</td>\n",
              "      <td>...</td>\n",
              "      <td>...</td>\n",
              "    </tr>\n",
              "    <tr>\n",
              "      <th>935</th>\n",
              "      <td>8877689391</td>\n",
              "      <td>5/8/2016</td>\n",
              "      <td>10686</td>\n",
              "      <td>17</td>\n",
              "      <td>4</td>\n",
              "      <td>245</td>\n",
              "      <td>1174</td>\n",
              "      <td>2847</td>\n",
              "    </tr>\n",
              "    <tr>\n",
              "      <th>936</th>\n",
              "      <td>8877689391</td>\n",
              "      <td>5/9/2016</td>\n",
              "      <td>20226</td>\n",
              "      <td>73</td>\n",
              "      <td>19</td>\n",
              "      <td>217</td>\n",
              "      <td>1131</td>\n",
              "      <td>3710</td>\n",
              "    </tr>\n",
              "    <tr>\n",
              "      <th>937</th>\n",
              "      <td>8877689391</td>\n",
              "      <td>5/10/2016</td>\n",
              "      <td>10733</td>\n",
              "      <td>18</td>\n",
              "      <td>11</td>\n",
              "      <td>224</td>\n",
              "      <td>1187</td>\n",
              "      <td>2832</td>\n",
              "    </tr>\n",
              "    <tr>\n",
              "      <th>938</th>\n",
              "      <td>8877689391</td>\n",
              "      <td>5/11/2016</td>\n",
              "      <td>21420</td>\n",
              "      <td>88</td>\n",
              "      <td>12</td>\n",
              "      <td>213</td>\n",
              "      <td>1127</td>\n",
              "      <td>3832</td>\n",
              "    </tr>\n",
              "    <tr>\n",
              "      <th>939</th>\n",
              "      <td>8877689391</td>\n",
              "      <td>5/12/2016</td>\n",
              "      <td>8064</td>\n",
              "      <td>23</td>\n",
              "      <td>1</td>\n",
              "      <td>137</td>\n",
              "      <td>770</td>\n",
              "      <td>1849</td>\n",
              "    </tr>\n",
              "  </tbody>\n",
              "</table>\n",
              "<p>940 rows × 8 columns</p>\n",
              "</div>\n",
              "    <div class=\"colab-df-buttons\">\n",
              "\n",
              "  <div class=\"colab-df-container\">\n",
              "    <button class=\"colab-df-convert\" onclick=\"convertToInteractive('df-e59592c2-5d72-4454-97ab-2a46e200ce96')\"\n",
              "            title=\"Convert this dataframe to an interactive table.\"\n",
              "            style=\"display:none;\">\n",
              "\n",
              "  <svg xmlns=\"http://www.w3.org/2000/svg\" height=\"24px\" viewBox=\"0 -960 960 960\">\n",
              "    <path d=\"M120-120v-720h720v720H120Zm60-500h600v-160H180v160Zm220 220h160v-160H400v160Zm0 220h160v-160H400v160ZM180-400h160v-160H180v160Zm440 0h160v-160H620v160ZM180-180h160v-160H180v160Zm440 0h160v-160H620v160Z\"/>\n",
              "  </svg>\n",
              "    </button>\n",
              "\n",
              "  <style>\n",
              "    .colab-df-container {\n",
              "      display:flex;\n",
              "      gap: 12px;\n",
              "    }\n",
              "\n",
              "    .colab-df-convert {\n",
              "      background-color: #E8F0FE;\n",
              "      border: none;\n",
              "      border-radius: 50%;\n",
              "      cursor: pointer;\n",
              "      display: none;\n",
              "      fill: #1967D2;\n",
              "      height: 32px;\n",
              "      padding: 0 0 0 0;\n",
              "      width: 32px;\n",
              "    }\n",
              "\n",
              "    .colab-df-convert:hover {\n",
              "      background-color: #E2EBFA;\n",
              "      box-shadow: 0px 1px 2px rgba(60, 64, 67, 0.3), 0px 1px 3px 1px rgba(60, 64, 67, 0.15);\n",
              "      fill: #174EA6;\n",
              "    }\n",
              "\n",
              "    .colab-df-buttons div {\n",
              "      margin-bottom: 4px;\n",
              "    }\n",
              "\n",
              "    [theme=dark] .colab-df-convert {\n",
              "      background-color: #3B4455;\n",
              "      fill: #D2E3FC;\n",
              "    }\n",
              "\n",
              "    [theme=dark] .colab-df-convert:hover {\n",
              "      background-color: #434B5C;\n",
              "      box-shadow: 0px 1px 3px 1px rgba(0, 0, 0, 0.15);\n",
              "      filter: drop-shadow(0px 1px 2px rgba(0, 0, 0, 0.3));\n",
              "      fill: #FFFFFF;\n",
              "    }\n",
              "  </style>\n",
              "\n",
              "    <script>\n",
              "      const buttonEl =\n",
              "        document.querySelector('#df-e59592c2-5d72-4454-97ab-2a46e200ce96 button.colab-df-convert');\n",
              "      buttonEl.style.display =\n",
              "        google.colab.kernel.accessAllowed ? 'block' : 'none';\n",
              "\n",
              "      async function convertToInteractive(key) {\n",
              "        const element = document.querySelector('#df-e59592c2-5d72-4454-97ab-2a46e200ce96');\n",
              "        const dataTable =\n",
              "          await google.colab.kernel.invokeFunction('convertToInteractive',\n",
              "                                                    [key], {});\n",
              "        if (!dataTable) return;\n",
              "\n",
              "        const docLinkHtml = 'Like what you see? Visit the ' +\n",
              "          '<a target=\"_blank\" href=https://colab.research.google.com/notebooks/data_table.ipynb>data table notebook</a>'\n",
              "          + ' to learn more about interactive tables.';\n",
              "        element.innerHTML = '';\n",
              "        dataTable['output_type'] = 'display_data';\n",
              "        await google.colab.output.renderOutput(dataTable, element);\n",
              "        const docLink = document.createElement('div');\n",
              "        docLink.innerHTML = docLinkHtml;\n",
              "        element.appendChild(docLink);\n",
              "      }\n",
              "    </script>\n",
              "  </div>\n",
              "\n",
              "\n",
              "<div id=\"df-5d43a75b-fc8e-4e44-a3e9-e2b34cdb4039\">\n",
              "  <button class=\"colab-df-quickchart\" onclick=\"quickchart('df-5d43a75b-fc8e-4e44-a3e9-e2b34cdb4039')\"\n",
              "            title=\"Suggest charts\"\n",
              "            style=\"display:none;\">\n",
              "\n",
              "<svg xmlns=\"http://www.w3.org/2000/svg\" height=\"24px\"viewBox=\"0 0 24 24\"\n",
              "     width=\"24px\">\n",
              "    <g>\n",
              "        <path d=\"M19 3H5c-1.1 0-2 .9-2 2v14c0 1.1.9 2 2 2h14c1.1 0 2-.9 2-2V5c0-1.1-.9-2-2-2zM9 17H7v-7h2v7zm4 0h-2V7h2v10zm4 0h-2v-4h2v4z\"/>\n",
              "    </g>\n",
              "</svg>\n",
              "  </button>\n",
              "\n",
              "<style>\n",
              "  .colab-df-quickchart {\n",
              "      --bg-color: #E8F0FE;\n",
              "      --fill-color: #1967D2;\n",
              "      --hover-bg-color: #E2EBFA;\n",
              "      --hover-fill-color: #174EA6;\n",
              "      --disabled-fill-color: #AAA;\n",
              "      --disabled-bg-color: #DDD;\n",
              "  }\n",
              "\n",
              "  [theme=dark] .colab-df-quickchart {\n",
              "      --bg-color: #3B4455;\n",
              "      --fill-color: #D2E3FC;\n",
              "      --hover-bg-color: #434B5C;\n",
              "      --hover-fill-color: #FFFFFF;\n",
              "      --disabled-bg-color: #3B4455;\n",
              "      --disabled-fill-color: #666;\n",
              "  }\n",
              "\n",
              "  .colab-df-quickchart {\n",
              "    background-color: var(--bg-color);\n",
              "    border: none;\n",
              "    border-radius: 50%;\n",
              "    cursor: pointer;\n",
              "    display: none;\n",
              "    fill: var(--fill-color);\n",
              "    height: 32px;\n",
              "    padding: 0;\n",
              "    width: 32px;\n",
              "  }\n",
              "\n",
              "  .colab-df-quickchart:hover {\n",
              "    background-color: var(--hover-bg-color);\n",
              "    box-shadow: 0 1px 2px rgba(60, 64, 67, 0.3), 0 1px 3px 1px rgba(60, 64, 67, 0.15);\n",
              "    fill: var(--button-hover-fill-color);\n",
              "  }\n",
              "\n",
              "  .colab-df-quickchart-complete:disabled,\n",
              "  .colab-df-quickchart-complete:disabled:hover {\n",
              "    background-color: var(--disabled-bg-color);\n",
              "    fill: var(--disabled-fill-color);\n",
              "    box-shadow: none;\n",
              "  }\n",
              "\n",
              "  .colab-df-spinner {\n",
              "    border: 2px solid var(--fill-color);\n",
              "    border-color: transparent;\n",
              "    border-bottom-color: var(--fill-color);\n",
              "    animation:\n",
              "      spin 1s steps(1) infinite;\n",
              "  }\n",
              "\n",
              "  @keyframes spin {\n",
              "    0% {\n",
              "      border-color: transparent;\n",
              "      border-bottom-color: var(--fill-color);\n",
              "      border-left-color: var(--fill-color);\n",
              "    }\n",
              "    20% {\n",
              "      border-color: transparent;\n",
              "      border-left-color: var(--fill-color);\n",
              "      border-top-color: var(--fill-color);\n",
              "    }\n",
              "    30% {\n",
              "      border-color: transparent;\n",
              "      border-left-color: var(--fill-color);\n",
              "      border-top-color: var(--fill-color);\n",
              "      border-right-color: var(--fill-color);\n",
              "    }\n",
              "    40% {\n",
              "      border-color: transparent;\n",
              "      border-right-color: var(--fill-color);\n",
              "      border-top-color: var(--fill-color);\n",
              "    }\n",
              "    60% {\n",
              "      border-color: transparent;\n",
              "      border-right-color: var(--fill-color);\n",
              "    }\n",
              "    80% {\n",
              "      border-color: transparent;\n",
              "      border-right-color: var(--fill-color);\n",
              "      border-bottom-color: var(--fill-color);\n",
              "    }\n",
              "    90% {\n",
              "      border-color: transparent;\n",
              "      border-bottom-color: var(--fill-color);\n",
              "    }\n",
              "  }\n",
              "</style>\n",
              "\n",
              "  <script>\n",
              "    async function quickchart(key) {\n",
              "      const quickchartButtonEl =\n",
              "        document.querySelector('#' + key + ' button');\n",
              "      quickchartButtonEl.disabled = true;  // To prevent multiple clicks.\n",
              "      quickchartButtonEl.classList.add('colab-df-spinner');\n",
              "      try {\n",
              "        const charts = await google.colab.kernel.invokeFunction(\n",
              "            'suggestCharts', [key], {});\n",
              "      } catch (error) {\n",
              "        console.error('Error during call to suggestCharts:', error);\n",
              "      }\n",
              "      quickchartButtonEl.classList.remove('colab-df-spinner');\n",
              "      quickchartButtonEl.classList.add('colab-df-quickchart-complete');\n",
              "    }\n",
              "    (() => {\n",
              "      let quickchartButtonEl =\n",
              "        document.querySelector('#df-5d43a75b-fc8e-4e44-a3e9-e2b34cdb4039 button');\n",
              "      quickchartButtonEl.style.display =\n",
              "        google.colab.kernel.accessAllowed ? 'block' : 'none';\n",
              "    })();\n",
              "  </script>\n",
              "</div>\n",
              "\n",
              "  <div id=\"id_cbc215e7-c780-4705-8677-991caeba32a0\">\n",
              "    <style>\n",
              "      .colab-df-generate {\n",
              "        background-color: #E8F0FE;\n",
              "        border: none;\n",
              "        border-radius: 50%;\n",
              "        cursor: pointer;\n",
              "        display: none;\n",
              "        fill: #1967D2;\n",
              "        height: 32px;\n",
              "        padding: 0 0 0 0;\n",
              "        width: 32px;\n",
              "      }\n",
              "\n",
              "      .colab-df-generate:hover {\n",
              "        background-color: #E2EBFA;\n",
              "        box-shadow: 0px 1px 2px rgba(60, 64, 67, 0.3), 0px 1px 3px 1px rgba(60, 64, 67, 0.15);\n",
              "        fill: #174EA6;\n",
              "      }\n",
              "\n",
              "      [theme=dark] .colab-df-generate {\n",
              "        background-color: #3B4455;\n",
              "        fill: #D2E3FC;\n",
              "      }\n",
              "\n",
              "      [theme=dark] .colab-df-generate:hover {\n",
              "        background-color: #434B5C;\n",
              "        box-shadow: 0px 1px 3px 1px rgba(0, 0, 0, 0.15);\n",
              "        filter: drop-shadow(0px 1px 2px rgba(0, 0, 0, 0.3));\n",
              "        fill: #FFFFFF;\n",
              "      }\n",
              "    </style>\n",
              "    <button class=\"colab-df-generate\" onclick=\"generateWithVariable('df')\"\n",
              "            title=\"Generate code using this dataframe.\"\n",
              "            style=\"display:none;\">\n",
              "\n",
              "  <svg xmlns=\"http://www.w3.org/2000/svg\" height=\"24px\"viewBox=\"0 0 24 24\"\n",
              "       width=\"24px\">\n",
              "    <path d=\"M7,19H8.4L18.45,9,17,7.55,7,17.6ZM5,21V16.75L18.45,3.32a2,2,0,0,1,2.83,0l1.4,1.43a1.91,1.91,0,0,1,.58,1.4,1.91,1.91,0,0,1-.58,1.4L9.25,21ZM18.45,9,17,7.55Zm-12,3A5.31,5.31,0,0,0,4.9,8.1,5.31,5.31,0,0,0,1,6.5,5.31,5.31,0,0,0,4.9,4.9,5.31,5.31,0,0,0,6.5,1,5.31,5.31,0,0,0,8.1,4.9,5.31,5.31,0,0,0,12,6.5,5.46,5.46,0,0,0,6.5,12Z\"/>\n",
              "  </svg>\n",
              "    </button>\n",
              "    <script>\n",
              "      (() => {\n",
              "      const buttonEl =\n",
              "        document.querySelector('#id_cbc215e7-c780-4705-8677-991caeba32a0 button.colab-df-generate');\n",
              "      buttonEl.style.display =\n",
              "        google.colab.kernel.accessAllowed ? 'block' : 'none';\n",
              "\n",
              "      buttonEl.onclick = () => {\n",
              "        google.colab.notebook.generateWithVariable('df');\n",
              "      }\n",
              "      })();\n",
              "    </script>\n",
              "  </div>\n",
              "\n",
              "    </div>\n",
              "  </div>\n"
            ],
            "application/vnd.google.colaboratory.intrinsic+json": {
              "type": "dataframe",
              "variable_name": "df",
              "summary": "{\n  \"name\": \"df\",\n  \"rows\": 940,\n  \"fields\": [\n    {\n      \"column\": \"Id\",\n      \"properties\": {\n        \"dtype\": \"number\",\n        \"std\": 2424805475,\n        \"min\": 1503960366,\n        \"max\": 8877689391,\n        \"num_unique_values\": 33,\n        \"samples\": [\n          8792009665,\n          4388161847,\n          7086361926\n        ],\n        \"semantic_type\": \"\",\n        \"description\": \"\"\n      }\n    },\n    {\n      \"column\": \"ActivityDate\",\n      \"properties\": {\n        \"dtype\": \"object\",\n        \"num_unique_values\": 31,\n        \"samples\": [\n          \"5/9/2016\",\n          \"4/27/2016\",\n          \"5/5/2016\"\n        ],\n        \"semantic_type\": \"\",\n        \"description\": \"\"\n      }\n    },\n    {\n      \"column\": \"TotalSteps\",\n      \"properties\": {\n        \"dtype\": \"number\",\n        \"std\": 5087,\n        \"min\": 0,\n        \"max\": 36019,\n        \"num_unique_values\": 842,\n        \"samples\": [\n          3727,\n          7379,\n          10762\n        ],\n        \"semantic_type\": \"\",\n        \"description\": \"\"\n      }\n    },\n    {\n      \"column\": \"VeryActiveMinutes\",\n      \"properties\": {\n        \"dtype\": \"number\",\n        \"std\": 32,\n        \"min\": 0,\n        \"max\": 210,\n        \"num_unique_values\": 122,\n        \"samples\": [\n          52,\n          104,\n          13\n        ],\n        \"semantic_type\": \"\",\n        \"description\": \"\"\n      }\n    },\n    {\n      \"column\": \"FairlyActiveMinutes\",\n      \"properties\": {\n        \"dtype\": \"number\",\n        \"std\": 19,\n        \"min\": 0,\n        \"max\": 143,\n        \"num_unique_values\": 81,\n        \"samples\": [\n          42,\n          13,\n          0\n        ],\n        \"semantic_type\": \"\",\n        \"description\": \"\"\n      }\n    },\n    {\n      \"column\": \"LightlyActiveMinutes\",\n      \"properties\": {\n        \"dtype\": \"number\",\n        \"std\": 109,\n        \"min\": 0,\n        \"max\": 518,\n        \"num_unique_values\": 335,\n        \"samples\": [\n          214,\n          331,\n          295\n        ],\n        \"semantic_type\": \"\",\n        \"description\": \"\"\n      }\n    },\n    {\n      \"column\": \"SedentaryMinutes\",\n      \"properties\": {\n        \"dtype\": \"number\",\n        \"std\": 301,\n        \"min\": 0,\n        \"max\": 1440,\n        \"num_unique_values\": 549,\n        \"samples\": [\n          720,\n          1115,\n          1187\n        ],\n        \"semantic_type\": \"\",\n        \"description\": \"\"\n      }\n    },\n    {\n      \"column\": \"Calories\",\n      \"properties\": {\n        \"dtype\": \"number\",\n        \"std\": 718,\n        \"min\": 0,\n        \"max\": 4900,\n        \"num_unique_values\": 734,\n        \"samples\": [\n          2937,\n          1344,\n          1545\n        ],\n        \"semantic_type\": \"\",\n        \"description\": \"\"\n      }\n    }\n  ]\n}"
            }
          },
          "metadata": {},
          "execution_count": 9
        }
      ]
    },
    {
      "cell_type": "code",
      "source": [
        "df.rename(columns={'ActivityDate':'Data'},inplace=True)"
      ],
      "metadata": {
        "execution": {
          "iopub.status.busy": "2023-12-10T11:32:17.642949Z",
          "iopub.execute_input": "2023-12-10T11:32:17.643341Z",
          "iopub.status.idle": "2023-12-10T11:32:17.649929Z",
          "shell.execute_reply.started": "2023-12-10T11:32:17.643311Z",
          "shell.execute_reply": "2023-12-10T11:32:17.6487Z"
        },
        "trusted": true,
        "id": "x-34kiLkD9QE"
      },
      "execution_count": null,
      "outputs": []
    },
    {
      "cell_type": "code",
      "source": [
        "df"
      ],
      "metadata": {
        "execution": {
          "iopub.status.busy": "2023-12-10T11:32:17.651676Z",
          "iopub.execute_input": "2023-12-10T11:32:17.652128Z",
          "iopub.status.idle": "2023-12-10T11:32:17.674833Z",
          "shell.execute_reply.started": "2023-12-10T11:32:17.652088Z",
          "shell.execute_reply": "2023-12-10T11:32:17.673576Z"
        },
        "trusted": true,
        "id": "_SEfIwCCD9QF"
      },
      "execution_count": null,
      "outputs": []
    },
    {
      "cell_type": "code",
      "source": [
        "df['TotalMinutes']=df.VeryActiveMinutes + df.FairlyActiveMinutes + df.LightlyActiveMinutes + df.SedentaryMinutes"
      ],
      "metadata": {
        "execution": {
          "iopub.status.busy": "2023-12-10T11:32:17.679275Z",
          "iopub.execute_input": "2023-12-10T11:32:17.67966Z",
          "iopub.status.idle": "2023-12-10T11:32:17.690041Z",
          "shell.execute_reply.started": "2023-12-10T11:32:17.679631Z",
          "shell.execute_reply": "2023-12-10T11:32:17.688621Z"
        },
        "trusted": true,
        "id": "tBLtqR1xD9QF"
      },
      "execution_count": null,
      "outputs": []
    },
    {
      "cell_type": "code",
      "source": [
        "df"
      ],
      "metadata": {
        "execution": {
          "iopub.status.busy": "2023-12-10T11:32:17.69122Z",
          "iopub.execute_input": "2023-12-10T11:32:17.691585Z",
          "iopub.status.idle": "2023-12-10T11:32:17.717105Z",
          "shell.execute_reply.started": "2023-12-10T11:32:17.691554Z",
          "shell.execute_reply": "2023-12-10T11:32:17.716048Z"
        },
        "trusted": true,
        "id": "Bdcs7AnCD9QG"
      },
      "execution_count": null,
      "outputs": []
    },
    {
      "cell_type": "code",
      "source": [
        "df['TotalHours']=round(df.TotalMinutes / 60)"
      ],
      "metadata": {
        "execution": {
          "iopub.status.busy": "2023-12-10T11:32:17.718226Z",
          "iopub.execute_input": "2023-12-10T11:32:17.718562Z",
          "iopub.status.idle": "2023-12-10T11:32:17.725715Z",
          "shell.execute_reply.started": "2023-12-10T11:32:17.718534Z",
          "shell.execute_reply": "2023-12-10T11:32:17.724288Z"
        },
        "trusted": true,
        "id": "BdXbl35lD9QG"
      },
      "execution_count": null,
      "outputs": []
    },
    {
      "cell_type": "code",
      "source": [
        "df"
      ],
      "metadata": {
        "execution": {
          "iopub.status.busy": "2023-12-10T11:32:17.72686Z",
          "iopub.execute_input": "2023-12-10T11:32:17.727257Z",
          "iopub.status.idle": "2023-12-10T11:32:17.755556Z",
          "shell.execute_reply.started": "2023-12-10T11:32:17.727227Z",
          "shell.execute_reply": "2023-12-10T11:32:17.754131Z"
        },
        "trusted": true,
        "id": "O_SiYV96D9QG"
      },
      "execution_count": null,
      "outputs": []
    },
    {
      "cell_type": "code",
      "source": [
        "df.info()"
      ],
      "metadata": {
        "execution": {
          "iopub.status.busy": "2023-12-10T11:32:17.759502Z",
          "iopub.execute_input": "2023-12-10T11:32:17.759879Z",
          "iopub.status.idle": "2023-12-10T11:32:17.785867Z",
          "shell.execute_reply.started": "2023-12-10T11:32:17.759848Z",
          "shell.execute_reply": "2023-12-10T11:32:17.784958Z"
        },
        "trusted": true,
        "id": "zFHpcq9QD9QH"
      },
      "execution_count": null,
      "outputs": []
    },
    {
      "cell_type": "code",
      "source": [
        "df.Data=pd.to_datetime(df.Data)\n",
        "df.Data.dtypes"
      ],
      "metadata": {
        "execution": {
          "iopub.status.busy": "2023-12-10T11:32:17.786958Z",
          "iopub.execute_input": "2023-12-10T11:32:17.787396Z",
          "iopub.status.idle": "2023-12-10T11:32:17.807204Z",
          "shell.execute_reply.started": "2023-12-10T11:32:17.787361Z",
          "shell.execute_reply": "2023-12-10T11:32:17.805911Z"
        },
        "trusted": true,
        "id": "UWbJbAIjD9QH"
      },
      "execution_count": null,
      "outputs": []
    },
    {
      "cell_type": "code",
      "source": [
        "df.info()"
      ],
      "metadata": {
        "execution": {
          "iopub.status.busy": "2023-12-10T11:32:17.809238Z",
          "iopub.execute_input": "2023-12-10T11:32:17.809842Z",
          "iopub.status.idle": "2023-12-10T11:32:17.832578Z",
          "shell.execute_reply.started": "2023-12-10T11:32:17.809801Z",
          "shell.execute_reply": "2023-12-10T11:32:17.831101Z"
        },
        "trusted": true,
        "id": "DpTs46TtD9QI"
      },
      "execution_count": null,
      "outputs": []
    },
    {
      "cell_type": "code",
      "source": [
        "df['DayOfWeek'] = df.Data.dt.day_name()"
      ],
      "metadata": {
        "execution": {
          "iopub.status.busy": "2023-12-10T11:32:17.834386Z",
          "iopub.execute_input": "2023-12-10T11:32:17.834765Z",
          "iopub.status.idle": "2023-12-10T11:32:17.848298Z",
          "shell.execute_reply.started": "2023-12-10T11:32:17.834734Z",
          "shell.execute_reply": "2023-12-10T11:32:17.84691Z"
        },
        "trusted": true,
        "id": "9TqRLKTaD9QI"
      },
      "execution_count": null,
      "outputs": []
    },
    {
      "cell_type": "code",
      "source": [
        "df"
      ],
      "metadata": {
        "execution": {
          "iopub.status.busy": "2023-12-10T11:32:17.849603Z",
          "iopub.execute_input": "2023-12-10T11:32:17.850029Z",
          "iopub.status.idle": "2023-12-10T11:32:17.885402Z",
          "shell.execute_reply.started": "2023-12-10T11:32:17.849966Z",
          "shell.execute_reply": "2023-12-10T11:32:17.884106Z"
        },
        "trusted": true,
        "id": "tMzqqO5dD9QI"
      },
      "execution_count": null,
      "outputs": []
    },
    {
      "cell_type": "code",
      "source": [
        "df.isna().sum()"
      ],
      "metadata": {
        "execution": {
          "iopub.status.busy": "2023-12-10T11:32:17.887127Z",
          "iopub.execute_input": "2023-12-10T11:32:17.887498Z",
          "iopub.status.idle": "2023-12-10T11:32:17.897086Z",
          "shell.execute_reply.started": "2023-12-10T11:32:17.887467Z",
          "shell.execute_reply": "2023-12-10T11:32:17.89621Z"
        },
        "trusted": true,
        "id": "JWWyL4vtD9QI"
      },
      "execution_count": null,
      "outputs": []
    },
    {
      "cell_type": "code",
      "source": [
        "df.duplicated().sum()"
      ],
      "metadata": {
        "execution": {
          "iopub.status.busy": "2023-12-10T11:32:17.898638Z",
          "iopub.execute_input": "2023-12-10T11:32:17.899714Z",
          "iopub.status.idle": "2023-12-10T11:32:17.913077Z",
          "shell.execute_reply.started": "2023-12-10T11:32:17.899605Z",
          "shell.execute_reply": "2023-12-10T11:32:17.911861Z"
        },
        "trusted": true,
        "id": "Lj7sTaDMD9QI"
      },
      "execution_count": null,
      "outputs": []
    },
    {
      "cell_type": "markdown",
      "source": [
        "# analyst data"
      ],
      "metadata": {
        "id": "vfMLT6cfD9QJ"
      }
    },
    {
      "cell_type": "code",
      "source": [
        "df.describe()"
      ],
      "metadata": {
        "execution": {
          "iopub.status.busy": "2023-12-10T11:32:17.915368Z",
          "iopub.execute_input": "2023-12-10T11:32:17.916175Z",
          "iopub.status.idle": "2023-12-10T11:32:17.966635Z",
          "shell.execute_reply.started": "2023-12-10T11:32:17.916127Z",
          "shell.execute_reply": "2023-12-10T11:32:17.96536Z"
        },
        "trusted": true,
        "id": "cOfdX9peD9QJ"
      },
      "execution_count": null,
      "outputs": []
    },
    {
      "cell_type": "code",
      "source": [
        "plt.figure(figsize=((10,6)))\n",
        "plt.hist(df.DayOfWeek,color='y',bins=7,width =.6,align='mid')\n",
        "\n",
        "plt.xlabel('Day of Week')\n",
        "plt.ylabel('freq')\n",
        "plt.title('freq bay of week')\n",
        "\n",
        "plt.grid()\n",
        "plt.show()"
      ],
      "metadata": {
        "execution": {
          "iopub.status.busy": "2023-12-10T11:32:17.968271Z",
          "iopub.execute_input": "2023-12-10T11:32:17.968645Z",
          "iopub.status.idle": "2023-12-10T11:32:18.377734Z",
          "shell.execute_reply.started": "2023-12-10T11:32:17.968614Z",
          "shell.execute_reply": "2023-12-10T11:32:18.376268Z"
        },
        "trusted": true,
        "id": "yH__-JRhD9QJ"
      },
      "execution_count": null,
      "outputs": []
    },
    {
      "cell_type": "code",
      "source": [
        "mask = df.drop(['DayOfWeek','Data'],axis=1)"
      ],
      "metadata": {
        "execution": {
          "iopub.status.busy": "2023-12-10T11:32:18.379943Z",
          "iopub.execute_input": "2023-12-10T11:32:18.38119Z",
          "iopub.status.idle": "2023-12-10T11:32:18.388908Z",
          "shell.execute_reply.started": "2023-12-10T11:32:18.381136Z",
          "shell.execute_reply": "2023-12-10T11:32:18.387507Z"
        },
        "trusted": true,
        "id": "xtLWflgZD9QK"
      },
      "execution_count": null,
      "outputs": []
    },
    {
      "cell_type": "code",
      "source": [
        "mask.corr()"
      ],
      "metadata": {
        "execution": {
          "iopub.status.busy": "2023-12-10T11:32:18.390505Z",
          "iopub.execute_input": "2023-12-10T11:32:18.391136Z",
          "iopub.status.idle": "2023-12-10T11:32:18.426829Z",
          "shell.execute_reply.started": "2023-12-10T11:32:18.391099Z",
          "shell.execute_reply": "2023-12-10T11:32:18.425572Z"
        },
        "trusted": true,
        "id": "TgNR2oftD9QK"
      },
      "execution_count": null,
      "outputs": []
    },
    {
      "cell_type": "code",
      "source": [
        "sns.heatmap(mask.corr())"
      ],
      "metadata": {
        "execution": {
          "iopub.status.busy": "2023-12-10T11:32:18.428538Z",
          "iopub.execute_input": "2023-12-10T11:32:18.42905Z",
          "iopub.status.idle": "2023-12-10T11:32:18.970065Z",
          "shell.execute_reply.started": "2023-12-10T11:32:18.429005Z",
          "shell.execute_reply": "2023-12-10T11:32:18.96852Z"
        },
        "trusted": true,
        "id": "mDNGTvz0D9QK"
      },
      "execution_count": null,
      "outputs": []
    },
    {
      "cell_type": "code",
      "source": [
        "plt.scatter(mask.TotalSteps,mask.Calories,c=mask.Calories )\n",
        "\n",
        "median_steps = 7405\n",
        "median_calories = 2134\n",
        "\n",
        "plt.axhline(median_calories,color = 'b',label = 'median of calories')\n",
        "plt.axvline(median_steps,color = 'r',label = 'median of steps')\n",
        "\n",
        "plt.xlabel('Steps')\n",
        "plt.ylabel('Calories')\n",
        "plt.title('Calories & TotalSteps')\n",
        "\n",
        "plt.legend()\n",
        "plt.show()"
      ],
      "metadata": {
        "execution": {
          "iopub.status.busy": "2023-12-10T11:32:18.971869Z",
          "iopub.execute_input": "2023-12-10T11:32:18.972231Z",
          "iopub.status.idle": "2023-12-10T11:32:19.453277Z",
          "shell.execute_reply.started": "2023-12-10T11:32:18.972202Z",
          "shell.execute_reply": "2023-12-10T11:32:19.452108Z"
        },
        "trusted": true,
        "id": "gCNVAWxzD9QL"
      },
      "execution_count": null,
      "outputs": []
    },
    {
      "cell_type": "code",
      "source": [
        "plt.scatter(mask.TotalHours,mask.Calories,c=mask.Calories )\n",
        "\n",
        "median_Hours = 24\n",
        "median_calories = 2134\n",
        "\n",
        "plt.axhline(median_calories,color = 'b',label = 'median of calories')\n",
        "plt.axvline(median_Hours,color = 'r',label = 'median of Hours')\n",
        "\n",
        "plt.xlabel('Hours')\n",
        "plt.ylabel('Calories')\n",
        "plt.title('Calories & Total Hours')\n",
        "\n",
        "plt.legend()\n",
        "plt.show()"
      ],
      "metadata": {
        "execution": {
          "iopub.status.busy": "2023-12-10T11:32:19.454521Z",
          "iopub.execute_input": "2023-12-10T11:32:19.455407Z",
          "iopub.status.idle": "2023-12-10T11:32:19.894074Z",
          "shell.execute_reply.started": "2023-12-10T11:32:19.455357Z",
          "shell.execute_reply": "2023-12-10T11:32:19.892874Z"
        },
        "trusted": true,
        "id": "o3WNHmzVD9QL"
      },
      "execution_count": null,
      "outputs": []
    },
    {
      "cell_type": "code",
      "source": [
        "minutes = [df.VeryActiveMinutes.sum(),df.FairlyActiveMinutes.sum(),\n",
        "           df.LightlyActiveMinutes.sum(),df.SedentaryMinutes.sum()\n",
        "          ]\n",
        "labels = ['VeryActiveMinutes','FairlyActiveMinutes','LightlyActiveMinutes','SedentaryMinutes']\n",
        "\n",
        "plt.pie(minutes,labels=labels,autopct='%1.1f%%',explode=[0,0,0,0.15])\n",
        "\n",
        "plt.show()"
      ],
      "metadata": {
        "execution": {
          "iopub.status.busy": "2023-12-10T11:32:19.901231Z",
          "iopub.execute_input": "2023-12-10T11:32:19.902163Z",
          "iopub.status.idle": "2023-12-10T11:32:20.097522Z",
          "shell.execute_reply.started": "2023-12-10T11:32:19.902114Z",
          "shell.execute_reply": "2023-12-10T11:32:20.095474Z"
        },
        "trusted": true,
        "id": "uF-3ZhuRD9QM"
      },
      "execution_count": null,
      "outputs": []
    },
    {
      "cell_type": "code",
      "source": [],
      "metadata": {
        "id": "yI8lKdCVD9QO"
      },
      "execution_count": null,
      "outputs": []
    }
  ]
}